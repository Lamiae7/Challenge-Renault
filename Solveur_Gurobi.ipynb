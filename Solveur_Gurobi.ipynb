{
 "cells": [
  {
   "cell_type": "code",
   "execution_count": 687,
   "metadata": {},
   "outputs": [
    {
     "data": {
      "text/html": [
       "<div>\n",
       "<style scoped>\n",
       "    .dataframe tbody tr th:only-of-type {\n",
       "        vertical-align: middle;\n",
       "    }\n",
       "\n",
       "    .dataframe tbody tr th {\n",
       "        vertical-align: top;\n",
       "    }\n",
       "\n",
       "    .dataframe thead th {\n",
       "        text-align: right;\n",
       "    }\n",
       "</style>\n",
       "<table border=\"1\" class=\"dataframe\">\n",
       "  <thead>\n",
       "    <tr style=\"text-align: right;\">\n",
       "      <th></th>\n",
       "      <th>Item ident</th>\n",
       "      <th>Supplier code</th>\n",
       "      <th>Supplier dock</th>\n",
       "      <th>Plant code</th>\n",
       "      <th>Plant dock</th>\n",
       "      <th>Product code</th>\n",
       "      <th>Package code</th>\n",
       "      <th>Number of items</th>\n",
       "      <th>Length</th>\n",
       "      <th>Width</th>\n",
       "      <th>Height</th>\n",
       "      <th>Weight</th>\n",
       "      <th>Nesting height</th>\n",
       "      <th>Stackability code</th>\n",
       "      <th>Forced orientation</th>\n",
       "      <th>Earliest arrival time</th>\n",
       "      <th>Latest arrival time</th>\n",
       "      <th>Inventory cost</th>\n",
       "      <th>Max stackability</th>\n",
       "    </tr>\n",
       "  </thead>\n",
       "  <tbody>\n",
       "    <tr>\n",
       "      <th>0</th>\n",
       "      <td>0090017100_28062022000001</td>\n",
       "      <td>9624700</td>\n",
       "      <td>NaN</td>\n",
       "      <td>90017100</td>\n",
       "      <td>171JSU</td>\n",
       "      <td>8201211111</td>\n",
       "      <td>MCC---0141</td>\n",
       "      <td>5</td>\n",
       "      <td>1550</td>\n",
       "      <td>1230</td>\n",
       "      <td>817</td>\n",
       "      <td>2236.28</td>\n",
       "      <td>50</td>\n",
       "      <td>GERB--1729_1550_1230</td>\n",
       "      <td>none</td>\n",
       "      <td>202207210000</td>\n",
       "      <td>202207211015</td>\n",
       "      <td>25</td>\n",
       "      <td>100</td>\n",
       "    </tr>\n",
       "    <tr>\n",
       "      <th>1</th>\n",
       "      <td>0090017100_28062022000002</td>\n",
       "      <td>9624700</td>\n",
       "      <td>NaN</td>\n",
       "      <td>90017100</td>\n",
       "      <td>171JSU</td>\n",
       "      <td>8201211111</td>\n",
       "      <td>MCC---0141</td>\n",
       "      <td>3</td>\n",
       "      <td>1550</td>\n",
       "      <td>1230</td>\n",
       "      <td>817</td>\n",
       "      <td>2236.28</td>\n",
       "      <td>50</td>\n",
       "      <td>GERB--1729_1550_1230</td>\n",
       "      <td>none</td>\n",
       "      <td>202207070000</td>\n",
       "      <td>202207071015</td>\n",
       "      <td>25</td>\n",
       "      <td>100</td>\n",
       "    </tr>\n",
       "    <tr>\n",
       "      <th>2</th>\n",
       "      <td>0090017100_28062022000003</td>\n",
       "      <td>9624700</td>\n",
       "      <td>NaN</td>\n",
       "      <td>90017100</td>\n",
       "      <td>171JSU</td>\n",
       "      <td>8201211111</td>\n",
       "      <td>MCC---0141</td>\n",
       "      <td>2</td>\n",
       "      <td>1550</td>\n",
       "      <td>1230</td>\n",
       "      <td>817</td>\n",
       "      <td>2236.28</td>\n",
       "      <td>50</td>\n",
       "      <td>GERB--1729_1550_1230</td>\n",
       "      <td>none</td>\n",
       "      <td>202207280000</td>\n",
       "      <td>202207281015</td>\n",
       "      <td>25</td>\n",
       "      <td>100</td>\n",
       "    </tr>\n",
       "    <tr>\n",
       "      <th>3</th>\n",
       "      <td>0090017100_28062022000004</td>\n",
       "      <td>9624700</td>\n",
       "      <td>NaN</td>\n",
       "      <td>90017100</td>\n",
       "      <td>171JSU</td>\n",
       "      <td>8201211111</td>\n",
       "      <td>MCC---0141</td>\n",
       "      <td>3</td>\n",
       "      <td>1550</td>\n",
       "      <td>1230</td>\n",
       "      <td>817</td>\n",
       "      <td>2236.28</td>\n",
       "      <td>50</td>\n",
       "      <td>GERB--1729_1550_1230</td>\n",
       "      <td>none</td>\n",
       "      <td>202209010000</td>\n",
       "      <td>202209011015</td>\n",
       "      <td>25</td>\n",
       "      <td>100</td>\n",
       "    </tr>\n",
       "    <tr>\n",
       "      <th>4</th>\n",
       "      <td>0090017100_28062022000005</td>\n",
       "      <td>9624700</td>\n",
       "      <td>NaN</td>\n",
       "      <td>90017100</td>\n",
       "      <td>171JSU</td>\n",
       "      <td>8201211111</td>\n",
       "      <td>MCC---0141</td>\n",
       "      <td>2</td>\n",
       "      <td>1550</td>\n",
       "      <td>1230</td>\n",
       "      <td>817</td>\n",
       "      <td>2236.28</td>\n",
       "      <td>50</td>\n",
       "      <td>GERB--1729_1550_1230</td>\n",
       "      <td>none</td>\n",
       "      <td>202208250000</td>\n",
       "      <td>202208251015</td>\n",
       "      <td>25</td>\n",
       "      <td>100</td>\n",
       "    </tr>\n",
       "  </tbody>\n",
       "</table>\n",
       "</div>"
      ],
      "text/plain": [
       "                  Item ident  Supplier code  Supplier dock  Plant code  \\\n",
       "0  0090017100_28062022000001        9624700            NaN    90017100   \n",
       "1  0090017100_28062022000002        9624700            NaN    90017100   \n",
       "2  0090017100_28062022000003        9624700            NaN    90017100   \n",
       "3  0090017100_28062022000004        9624700            NaN    90017100   \n",
       "4  0090017100_28062022000005        9624700            NaN    90017100   \n",
       "\n",
       "  Plant dock  Product code Package code  Number of items  Length  Width  \\\n",
       "0     171JSU    8201211111   MCC---0141                5    1550   1230   \n",
       "1     171JSU    8201211111   MCC---0141                3    1550   1230   \n",
       "2     171JSU    8201211111   MCC---0141                2    1550   1230   \n",
       "3     171JSU    8201211111   MCC---0141                3    1550   1230   \n",
       "4     171JSU    8201211111   MCC---0141                2    1550   1230   \n",
       "\n",
       "   Height   Weight  Nesting height     Stackability code Forced orientation  \\\n",
       "0     817  2236.28              50  GERB--1729_1550_1230               none   \n",
       "1     817  2236.28              50  GERB--1729_1550_1230               none   \n",
       "2     817  2236.28              50  GERB--1729_1550_1230               none   \n",
       "3     817  2236.28              50  GERB--1729_1550_1230               none   \n",
       "4     817  2236.28              50  GERB--1729_1550_1230               none   \n",
       "\n",
       "   Earliest arrival time  Latest arrival time  Inventory cost  \\\n",
       "0           202207210000         202207211015              25   \n",
       "1           202207070000         202207071015              25   \n",
       "2           202207280000         202207281015              25   \n",
       "3           202209010000         202209011015              25   \n",
       "4           202208250000         202208251015              25   \n",
       "\n",
       "   Max stackability  \n",
       "0               100  \n",
       "1               100  \n",
       "2               100  \n",
       "3               100  \n",
       "4               100  "
      ]
     },
     "execution_count": 687,
     "metadata": {},
     "output_type": "execute_result"
    }
   ],
   "source": [
    "import pandas as pd\n",
    "df_item= pd.read_table('C:/Users/DELL/OneDrive/Documents/Challenge_EUROROADEF_Renault_ISC/Eléments_du_projet/checker (1)/checker/data/SDV/input_items.csv',sep=\";\",encoding='ISO-8859-1',engine='python')\n",
    "df_item.head(5)\n"
   ]
  },
  {
   "cell_type": "code",
   "execution_count": 688,
   "metadata": {},
   "outputs": [
    {
     "data": {
      "text/plain": [
       "(6, 19)"
      ]
     },
     "execution_count": 688,
     "metadata": {},
     "output_type": "execute_result"
    }
   ],
   "source": [
    "df_item.shape"
   ]
  },
  {
   "cell_type": "code",
   "execution_count": 689,
   "metadata": {},
   "outputs": [
    {
     "data": {
      "text/plain": [
       "0    2236.28\n",
       "1    2236.28\n",
       "2    2236.28\n",
       "3    2236.28\n",
       "4    2236.28\n",
       "5    2236.28\n",
       "Name: Weight, dtype: float64"
      ]
     },
     "execution_count": 689,
     "metadata": {},
     "output_type": "execute_result"
    }
   ],
   "source": [
    "df_item['Weight']"
   ]
  },
  {
   "cell_type": "code",
   "execution_count": 690,
   "metadata": {},
   "outputs": [],
   "source": [
    "dict_of_dicts_item = {}\n",
    "for x in df_item.columns :\n",
    "    if x != 'Item ident':\n",
    "        A_x = dict(zip(df_item['Item ident'], df_item[x]))\n",
    "        dict_of_dicts_item[x] = A_x\n"
   ]
  },
  {
   "cell_type": "code",
   "execution_count": 691,
   "metadata": {},
   "outputs": [
    {
     "data": {
      "text/plain": [
       "{'Supplier code': {'0090017100_28062022000001': 9624700,\n",
       "  '0090017100_28062022000002': 9624700,\n",
       "  '0090017100_28062022000003': 9624700,\n",
       "  '0090017100_28062022000004': 9624700,\n",
       "  '0090017100_28062022000005': 9624700,\n",
       "  '0090017100_28062022000006': 9624700},\n",
       " 'Supplier dock': {'0090017100_28062022000001': nan,\n",
       "  '0090017100_28062022000002': nan,\n",
       "  '0090017100_28062022000003': nan,\n",
       "  '0090017100_28062022000004': nan,\n",
       "  '0090017100_28062022000005': nan,\n",
       "  '0090017100_28062022000006': nan},\n",
       " 'Plant code': {'0090017100_28062022000001': 90017100,\n",
       "  '0090017100_28062022000002': 90017100,\n",
       "  '0090017100_28062022000003': 90017100,\n",
       "  '0090017100_28062022000004': 90017100,\n",
       "  '0090017100_28062022000005': 90017100,\n",
       "  '0090017100_28062022000006': 90017100},\n",
       " 'Plant dock': {'0090017100_28062022000001': '171JSU',\n",
       "  '0090017100_28062022000002': '171JSU',\n",
       "  '0090017100_28062022000003': '171JSU',\n",
       "  '0090017100_28062022000004': '171JSU',\n",
       "  '0090017100_28062022000005': '171JSU',\n",
       "  '0090017100_28062022000006': '171JSU'},\n",
       " 'Product code': {'0090017100_28062022000001': 8201211111,\n",
       "  '0090017100_28062022000002': 8201211111,\n",
       "  '0090017100_28062022000003': 8201211111,\n",
       "  '0090017100_28062022000004': 8201211111,\n",
       "  '0090017100_28062022000005': 8201211111,\n",
       "  '0090017100_28062022000006': 8201211111},\n",
       " 'Package code': {'0090017100_28062022000001': 'MCC---0141',\n",
       "  '0090017100_28062022000002': 'MCC---0141',\n",
       "  '0090017100_28062022000003': 'MCC---0141',\n",
       "  '0090017100_28062022000004': 'MCC---0141',\n",
       "  '0090017100_28062022000005': 'MCC---0141',\n",
       "  '0090017100_28062022000006': 'MCC---0141'},\n",
       " 'Number of items': {'0090017100_28062022000001': 5,\n",
       "  '0090017100_28062022000002': 3,\n",
       "  '0090017100_28062022000003': 2,\n",
       "  '0090017100_28062022000004': 3,\n",
       "  '0090017100_28062022000005': 2,\n",
       "  '0090017100_28062022000006': 3},\n",
       " 'Length': {'0090017100_28062022000001': 1550,\n",
       "  '0090017100_28062022000002': 1550,\n",
       "  '0090017100_28062022000003': 1550,\n",
       "  '0090017100_28062022000004': 1550,\n",
       "  '0090017100_28062022000005': 1550,\n",
       "  '0090017100_28062022000006': 1550},\n",
       " 'Width': {'0090017100_28062022000001': 1230,\n",
       "  '0090017100_28062022000002': 1230,\n",
       "  '0090017100_28062022000003': 1230,\n",
       "  '0090017100_28062022000004': 1230,\n",
       "  '0090017100_28062022000005': 1230,\n",
       "  '0090017100_28062022000006': 1230},\n",
       " 'Height': {'0090017100_28062022000001': 817,\n",
       "  '0090017100_28062022000002': 817,\n",
       "  '0090017100_28062022000003': 817,\n",
       "  '0090017100_28062022000004': 817,\n",
       "  '0090017100_28062022000005': 817,\n",
       "  '0090017100_28062022000006': 817},\n",
       " 'Weight': {'0090017100_28062022000001': 2236.28,\n",
       "  '0090017100_28062022000002': 2236.28,\n",
       "  '0090017100_28062022000003': 2236.28,\n",
       "  '0090017100_28062022000004': 2236.28,\n",
       "  '0090017100_28062022000005': 2236.28,\n",
       "  '0090017100_28062022000006': 2236.28},\n",
       " 'Nesting height': {'0090017100_28062022000001': 50,\n",
       "  '0090017100_28062022000002': 50,\n",
       "  '0090017100_28062022000003': 50,\n",
       "  '0090017100_28062022000004': 50,\n",
       "  '0090017100_28062022000005': 50,\n",
       "  '0090017100_28062022000006': 50},\n",
       " 'Stackability code': {'0090017100_28062022000001': 'GERB--1729_1550_1230',\n",
       "  '0090017100_28062022000002': 'GERB--1729_1550_1230',\n",
       "  '0090017100_28062022000003': 'GERB--1729_1550_1230',\n",
       "  '0090017100_28062022000004': 'GERB--1729_1550_1230',\n",
       "  '0090017100_28062022000005': 'GERB--1729_1550_1230',\n",
       "  '0090017100_28062022000006': 'GERB--1729_1550_1230'},\n",
       " 'Forced orientation': {'0090017100_28062022000001': 'none',\n",
       "  '0090017100_28062022000002': 'none',\n",
       "  '0090017100_28062022000003': 'none',\n",
       "  '0090017100_28062022000004': 'none',\n",
       "  '0090017100_28062022000005': 'none',\n",
       "  '0090017100_28062022000006': 'none'},\n",
       " 'Earliest arrival time': {'0090017100_28062022000001': 202207210000,\n",
       "  '0090017100_28062022000002': 202207070000,\n",
       "  '0090017100_28062022000003': 202207280000,\n",
       "  '0090017100_28062022000004': 202209010000,\n",
       "  '0090017100_28062022000005': 202208250000,\n",
       "  '0090017100_28062022000006': 202208180000},\n",
       " 'Latest arrival time': {'0090017100_28062022000001': 202207211015,\n",
       "  '0090017100_28062022000002': 202207071015,\n",
       "  '0090017100_28062022000003': 202207281015,\n",
       "  '0090017100_28062022000004': 202209011015,\n",
       "  '0090017100_28062022000005': 202208251015,\n",
       "  '0090017100_28062022000006': 202208181015},\n",
       " 'Inventory cost': {'0090017100_28062022000001': 25,\n",
       "  '0090017100_28062022000002': 25,\n",
       "  '0090017100_28062022000003': 25,\n",
       "  '0090017100_28062022000004': 25,\n",
       "  '0090017100_28062022000005': 25,\n",
       "  '0090017100_28062022000006': 25},\n",
       " 'Max stackability': {'0090017100_28062022000001': 100,\n",
       "  '0090017100_28062022000002': 100,\n",
       "  '0090017100_28062022000003': 100,\n",
       "  '0090017100_28062022000004': 100,\n",
       "  '0090017100_28062022000005': 100,\n",
       "  '0090017100_28062022000006': 100}}"
      ]
     },
     "execution_count": 691,
     "metadata": {},
     "output_type": "execute_result"
    }
   ],
   "source": [
    "dict_of_dicts_item"
   ]
  },
  {
   "cell_type": "code",
   "execution_count": 692,
   "metadata": {},
   "outputs": [
    {
     "data": {
      "text/html": [
       "<div>\n",
       "<style scoped>\n",
       "    .dataframe tbody tr th:only-of-type {\n",
       "        vertical-align: middle;\n",
       "    }\n",
       "\n",
       "    .dataframe tbody tr th {\n",
       "        vertical-align: top;\n",
       "    }\n",
       "\n",
       "    .dataframe thead th {\n",
       "        text-align: right;\n",
       "    }\n",
       "</style>\n",
       "<table border=\"1\" class=\"dataframe\">\n",
       "  <thead>\n",
       "    <tr style=\"text-align: right;\">\n",
       "      <th></th>\n",
       "      <th>Supplier code</th>\n",
       "      <th>Supplier loading order</th>\n",
       "      <th>Supplier dock</th>\n",
       "      <th>Supplier dock loading order</th>\n",
       "      <th>Plant code</th>\n",
       "      <th>Plant dock</th>\n",
       "      <th>Plant dock loading order</th>\n",
       "      <th>Product code</th>\n",
       "      <th>Arrival time</th>\n",
       "      <th>Id truck</th>\n",
       "      <th>...</th>\n",
       "      <th>EMmm</th>\n",
       "      <th>EMmr</th>\n",
       "      <th>CM</th>\n",
       "      <th>CJfm</th>\n",
       "      <th>CJfc</th>\n",
       "      <th>CJfh</th>\n",
       "      <th>EM</th>\n",
       "      <th>EJhr</th>\n",
       "      <th>EJcr</th>\n",
       "      <th>EJeh</th>\n",
       "    </tr>\n",
       "  </thead>\n",
       "  <tbody>\n",
       "    <tr>\n",
       "      <th>0</th>\n",
       "      <td>9624700</td>\n",
       "      <td>1</td>\n",
       "      <td>NaN</td>\n",
       "      <td>1</td>\n",
       "      <td>90017100</td>\n",
       "      <td>171JSU</td>\n",
       "      <td>1</td>\n",
       "      <td>8201211111</td>\n",
       "      <td>202207281015</td>\n",
       "      <td>P209152725</td>\n",
       "      <td>...</td>\n",
       "      <td>12000</td>\n",
       "      <td>31500</td>\n",
       "      <td>7808,000</td>\n",
       "      <td>3800</td>\n",
       "      <td>1040</td>\n",
       "      <td>3330</td>\n",
       "      <td>7300,000</td>\n",
       "      <td>7630</td>\n",
       "      <td>2350</td>\n",
       "      <td>1670</td>\n",
       "    </tr>\n",
       "    <tr>\n",
       "      <th>1</th>\n",
       "      <td>9624700</td>\n",
       "      <td>1</td>\n",
       "      <td>NaN</td>\n",
       "      <td>1</td>\n",
       "      <td>90017100</td>\n",
       "      <td>171JSU</td>\n",
       "      <td>1</td>\n",
       "      <td>8201211111</td>\n",
       "      <td>202208251015</td>\n",
       "      <td>P237152725</td>\n",
       "      <td>...</td>\n",
       "      <td>12000</td>\n",
       "      <td>31500</td>\n",
       "      <td>7808,000</td>\n",
       "      <td>3800</td>\n",
       "      <td>1040</td>\n",
       "      <td>3330</td>\n",
       "      <td>7300,000</td>\n",
       "      <td>7630</td>\n",
       "      <td>2350</td>\n",
       "      <td>1670</td>\n",
       "    </tr>\n",
       "    <tr>\n",
       "      <th>2</th>\n",
       "      <td>9624700</td>\n",
       "      <td>1</td>\n",
       "      <td>NaN</td>\n",
       "      <td>1</td>\n",
       "      <td>90017100</td>\n",
       "      <td>171JSU</td>\n",
       "      <td>1</td>\n",
       "      <td>8201211111</td>\n",
       "      <td>202208181015</td>\n",
       "      <td>P230152725</td>\n",
       "      <td>...</td>\n",
       "      <td>12000</td>\n",
       "      <td>31500</td>\n",
       "      <td>7808,000</td>\n",
       "      <td>3800</td>\n",
       "      <td>1040</td>\n",
       "      <td>3330</td>\n",
       "      <td>7300,000</td>\n",
       "      <td>7630</td>\n",
       "      <td>2350</td>\n",
       "      <td>1670</td>\n",
       "    </tr>\n",
       "    <tr>\n",
       "      <th>3</th>\n",
       "      <td>9624700</td>\n",
       "      <td>1</td>\n",
       "      <td>NaN</td>\n",
       "      <td>1</td>\n",
       "      <td>90017100</td>\n",
       "      <td>171JSU</td>\n",
       "      <td>1</td>\n",
       "      <td>8201211111</td>\n",
       "      <td>202209011015</td>\n",
       "      <td>P244152725</td>\n",
       "      <td>...</td>\n",
       "      <td>12000</td>\n",
       "      <td>31500</td>\n",
       "      <td>7808,000</td>\n",
       "      <td>3800</td>\n",
       "      <td>1040</td>\n",
       "      <td>3330</td>\n",
       "      <td>7300,000</td>\n",
       "      <td>7630</td>\n",
       "      <td>2350</td>\n",
       "      <td>1670</td>\n",
       "    </tr>\n",
       "    <tr>\n",
       "      <th>4</th>\n",
       "      <td>9624700</td>\n",
       "      <td>1</td>\n",
       "      <td>NaN</td>\n",
       "      <td>1</td>\n",
       "      <td>90017100</td>\n",
       "      <td>171JSU</td>\n",
       "      <td>1</td>\n",
       "      <td>8201211111</td>\n",
       "      <td>202207211015</td>\n",
       "      <td>P202152725</td>\n",
       "      <td>...</td>\n",
       "      <td>12000</td>\n",
       "      <td>31500</td>\n",
       "      <td>7808,000</td>\n",
       "      <td>3800</td>\n",
       "      <td>1040</td>\n",
       "      <td>3330</td>\n",
       "      <td>7300,000</td>\n",
       "      <td>7630</td>\n",
       "      <td>2350</td>\n",
       "      <td>1670</td>\n",
       "    </tr>\n",
       "    <tr>\n",
       "      <th>5</th>\n",
       "      <td>9624700</td>\n",
       "      <td>1</td>\n",
       "      <td>NaN</td>\n",
       "      <td>1</td>\n",
       "      <td>90017100</td>\n",
       "      <td>171JSU</td>\n",
       "      <td>1</td>\n",
       "      <td>8201211111</td>\n",
       "      <td>202207071015</td>\n",
       "      <td>P188152725</td>\n",
       "      <td>...</td>\n",
       "      <td>12000</td>\n",
       "      <td>31500</td>\n",
       "      <td>7808,000</td>\n",
       "      <td>3800</td>\n",
       "      <td>1040</td>\n",
       "      <td>3330</td>\n",
       "      <td>7300,000</td>\n",
       "      <td>7630</td>\n",
       "      <td>2350</td>\n",
       "      <td>1670</td>\n",
       "    </tr>\n",
       "  </tbody>\n",
       "</table>\n",
       "<p>6 rows × 28 columns</p>\n",
       "</div>"
      ],
      "text/plain": [
       "   Supplier code  Supplier loading order  Supplier dock  \\\n",
       "0        9624700                       1            NaN   \n",
       "1        9624700                       1            NaN   \n",
       "2        9624700                       1            NaN   \n",
       "3        9624700                       1            NaN   \n",
       "4        9624700                       1            NaN   \n",
       "5        9624700                       1            NaN   \n",
       "\n",
       "   Supplier dock loading order  Plant code Plant dock  \\\n",
       "0                            1    90017100     171JSU   \n",
       "1                            1    90017100     171JSU   \n",
       "2                            1    90017100     171JSU   \n",
       "3                            1    90017100     171JSU   \n",
       "4                            1    90017100     171JSU   \n",
       "5                            1    90017100     171JSU   \n",
       "\n",
       "   Plant dock loading order  Product code  Arrival time    Id truck  ...  \\\n",
       "0                         1    8201211111  202207281015  P209152725  ...   \n",
       "1                         1    8201211111  202208251015  P237152725  ...   \n",
       "2                         1    8201211111  202208181015  P230152725  ...   \n",
       "3                         1    8201211111  202209011015  P244152725  ...   \n",
       "4                         1    8201211111  202207211015  P202152725  ...   \n",
       "5                         1    8201211111  202207071015  P188152725  ...   \n",
       "\n",
       "    EMmm   EMmr        CM  CJfm  CJfc  CJfh        EM  EJhr  EJcr  EJeh  \n",
       "0  12000  31500  7808,000  3800  1040  3330  7300,000  7630  2350  1670  \n",
       "1  12000  31500  7808,000  3800  1040  3330  7300,000  7630  2350  1670  \n",
       "2  12000  31500  7808,000  3800  1040  3330  7300,000  7630  2350  1670  \n",
       "3  12000  31500  7808,000  3800  1040  3330  7300,000  7630  2350  1670  \n",
       "4  12000  31500  7808,000  3800  1040  3330  7300,000  7630  2350  1670  \n",
       "5  12000  31500  7808,000  3800  1040  3330  7300,000  7630  2350  1670  \n",
       "\n",
       "[6 rows x 28 columns]"
      ]
     },
     "execution_count": 692,
     "metadata": {},
     "output_type": "execute_result"
    }
   ],
   "source": [
    "df_trucks = pd.read_table('C:/Users/DELL/OneDrive/Documents/Challenge_EUROROADEF_Renault_ISC/Eléments_du_projet/checker (1)/checker/data/SDV/input_trucks.csv',sep=\";\",encoding='ISO-8859-1',engine='python')\n",
    "df_trucks"
   ]
  },
  {
   "cell_type": "code",
   "execution_count": 693,
   "metadata": {},
   "outputs": [
    {
     "data": {
      "text/plain": [
       "Index(['Supplier code', 'Supplier loading order', 'Supplier dock',\n",
       "       'Supplier dock loading order', 'Plant code', 'Plant dock',\n",
       "       'Plant dock loading order', 'Product code', 'Arrival time', 'Id truck',\n",
       "       'Length', 'Width', 'Height', 'Max weight', 'Stack with multiple docks',\n",
       "       'Max density', 'Max weight on the bottom item in stacks', 'Cost',\n",
       "       'EMmm', 'EMmr', 'CM', 'CJfm', 'CJfc', 'CJfh', 'EM', 'EJhr', 'EJcr',\n",
       "       'EJeh'],\n",
       "      dtype='object')"
      ]
     },
     "execution_count": 693,
     "metadata": {},
     "output_type": "execute_result"
    }
   ],
   "source": [
    "df_trucks.columns"
   ]
  },
  {
   "cell_type": "code",
   "execution_count": 694,
   "metadata": {},
   "outputs": [],
   "source": [
    "df_trucks_grouped = df_trucks[['Id truck','Supplier code']].groupby('Id truck')"
   ]
  },
  {
   "cell_type": "code",
   "execution_count": 695,
   "metadata": {},
   "outputs": [
    {
     "name": "stdout",
     "output_type": "stream",
     "text": [
      "     Id truck Supplier code\n",
      "0  P188152725     [9624700]\n",
      "1  P202152725     [9624700]\n",
      "2  P209152725     [9624700]\n",
      "3  P230152725     [9624700]\n",
      "4  P237152725     [9624700]\n",
      "5  P244152725     [9624700]\n"
     ]
    }
   ],
   "source": [
    "counts = df_trucks.groupby(['Id truck', 'Supplier code']).size().reset_index(name='counts')\n",
    "\n",
    "# Grouper à nouveau par id truck, et concaténer les noms des supplier dock en une liste\n",
    "supplier_codes = counts.groupby('Id truck')['Supplier code'].apply(list).reset_index(name='Supplier code')\n",
    "\n",
    "# Afficher le résultat\n",
    "print(supplier_codes)"
   ]
  },
  {
   "cell_type": "code",
   "execution_count": 696,
   "metadata": {},
   "outputs": [
    {
     "name": "stdout",
     "output_type": "stream",
     "text": [
      "     Id truck Supplier order\n",
      "0  P188152725      [9624700]\n",
      "1  P202152725      [9624700]\n",
      "2  P209152725      [9624700]\n",
      "3  P230152725      [9624700]\n",
      "4  P237152725      [9624700]\n",
      "5  P244152725      [9624700]\n"
     ]
    }
   ],
   "source": [
    "df_sorted = df_trucks.sort_values(by=['Id truck', 'Supplier loading order'])\n",
    "\n",
    "# Grouper le dataframe par camion, et concaténer les noms des suppliers en une liste ordonnée\n",
    "supplier_order = df_sorted.groupby('Id truck')['Supplier code'].apply(list).reset_index(name='Supplier order')\n",
    "\n",
    "# Afficher le résultat\n",
    "print(supplier_order)"
   ]
  },
  {
   "cell_type": "code",
   "execution_count": 697,
   "metadata": {},
   "outputs": [
    {
     "data": {
      "text/plain": [
       "Index(['Id truck', 'Supplier code'], dtype='object')"
      ]
     },
     "execution_count": 697,
     "metadata": {},
     "output_type": "execute_result"
    }
   ],
   "source": [
    "supplier_codes.columns"
   ]
  },
  {
   "cell_type": "code",
   "execution_count": 698,
   "metadata": {},
   "outputs": [],
   "source": [
    "dict_of_dicts_trucks = {}\n",
    "for x in df_trucks.columns :\n",
    "    if x not in ('Id truck', 'Supplier loading order', 'Plant dock loading order') :\n",
    "        counts = df_trucks.groupby(['Id truck', x]).size().reset_index(name='counts')\n",
    "        df_grouped = counts.groupby('Id truck')[x].apply(list).reset_index(name=x)\n",
    "        A_x = dict(zip(df_grouped['Id truck'], df_grouped[x]))\n",
    "        dict_of_dicts_trucks[x] = A_x\n",
    "    if x == 'Supplier loading order':\n",
    "        df_sorted = df_trucks.sort_values(by=['Id truck', 'Supplier loading order'])\n",
    "# Grouper le dataframe par camion, et concaténer les noms des suppliers en une liste ordonnée\n",
    "        supplier_order = df_sorted.groupby('Id truck')['Supplier code'].apply(list).reset_index(name='Supplier order')\n",
    "        A_x = dict(zip(supplier_order['Id truck'], supplier_order['Supplier order']))\n",
    "        dict_of_dicts_trucks[x] = A_x\n",
    "    if x == 'Plant dock loading order':\n",
    "        df_sorted = df_trucks.sort_values(by=['Id truck', 'Plant dock loading order'])\n",
    "# Grouper le dataframe par camion, et concaténer les noms des suppliers en une liste ordonnée\n",
    "        plant_order = df_sorted.groupby('Id truck')['Plant dock'].apply(list).reset_index(name='Plant dock order')\n",
    "        A_x = dict(zip(plant_order['Id truck'], plant_order['Plant dock order']))\n",
    "        dict_of_dicts_trucks[x] = A_x\n",
    "    if x == 'Max weight on the bottom item in stacks':\n",
    "        #df_sorted = df_trucks.sort_values(by=['Id truck', 'Plant dock loading order'])\n",
    "# Grouper le dataframe par camion, et concaténer les noms des suppliers en une liste ordonnée\n",
    "        max_weight_truck_item = df_trucks.groupby(['Id truck','Product code'])[x].apply(list)\n",
    "        A_x = dict(zip(max_weight_truck_item.index, max_weight_truck_item.values))\n",
    "        dict_of_dicts_trucks[x] = A_x\n",
    "\n",
    "        "
   ]
  },
  {
   "cell_type": "code",
   "execution_count": 699,
   "metadata": {},
   "outputs": [
    {
     "data": {
      "text/plain": [
       "{('P188152725', 8201211111): [100000],\n",
       " ('P202152725', 8201211111): [100000],\n",
       " ('P209152725', 8201211111): [100000],\n",
       " ('P230152725', 8201211111): [100000],\n",
       " ('P237152725', 8201211111): [100000],\n",
       " ('P244152725', 8201211111): [100000]}"
      ]
     },
     "execution_count": 699,
     "metadata": {},
     "output_type": "execute_result"
    }
   ],
   "source": [
    "dict_of_dicts_trucks['Max weight on the bottom item in stacks']"
   ]
  },
  {
   "cell_type": "code",
   "execution_count": 700,
   "metadata": {},
   "outputs": [],
   "source": [
    "n= len(df_item) #nombre de lignes"
   ]
  },
  {
   "cell_type": "code",
   "execution_count": 701,
   "metadata": {},
   "outputs": [],
   "source": [
    "S = []\n",
    "for i in range(n+1):\n",
    "    S.append('s'+str(i+1))"
   ]
  },
  {
   "attachments": {},
   "cell_type": "markdown",
   "metadata": {},
   "source": [
    "Model"
   ]
  },
  {
   "cell_type": "code",
   "execution_count": 702,
   "metadata": {},
   "outputs": [],
   "source": [
    "# Parameters\n",
    "import gurobipy as gp\n",
    "from gurobipy import GRB\n",
    "# = ['Heures']\n",
    "Trucks = df_trucks['Id truck']\n",
    "Items = df_item['Item ident']\n",
    "m = gp.Model('Chargement_camions')\n",
    "R = m.addVars(Trucks, vtype = GRB.INTEGER, name = \"supplémentaires\")\n",
    "\n",
    "dict_var_ts = {}\n",
    "\n",
    "for t in Trucks:\n",
    "    T = {}\n",
    "    for s in S :\n",
    "        T[s] = m.addVar(vtype = GRB.BINARY, name = \"y\"+str(s)+t)\n",
    "    dict_var_ts[t] = T\n",
    "dict_var_si = {}\n",
    "\n",
    "for s in S:\n",
    "    I = {}\n",
    "    for i in Items :\n",
    "        I[i] = m.addVar(vtype = GRB.BINARY, name = \"x\"+i+str(s))\n",
    "    dict_var_si[s] = I\n",
    "\n",
    "dict_var_si_ordre = {}\n",
    "for s in S:\n",
    "    I = {}\n",
    "    for i in Items :\n",
    "        I[i] = m.addVar(vtype = GRB.BINARY, name = \"xordre\"+i+str(s))\n",
    "    dict_var_si_ordre[s] = I\n",
    "\n",
    "dict_var_coord_s = {}\n",
    "for s in S :\n",
    "    a = {}\n",
    "    a['sx0'] = m.addVar(vtype = GRB.CONTINUOUS, name = \"sx0\"+str(s))\n",
    "    a['sxe'] = m.addVar(vtype = GRB.CONTINUOUS, name = \"sxe\"+str(s))\n",
    "    a['sy0'] = m.addVar(vtype = GRB.CONTINUOUS, name = \"sy0\"+str(s))\n",
    "    a['sye'] = m.addVar(vtype = GRB.CONTINUOUS, name = \"sye\"+str(s))\n",
    "    a['sz0'] = m.addVar(vtype = GRB.CONTINUOUS, name = \"sz0\"+str(s))\n",
    "    a['sze'] = m.addVar(vtype = GRB.CONTINUOUS, name = \"sze\"+str(s))\n",
    "    dict_var_coord_s[s] = a\n",
    "\n",
    "Supplier_stack = {}\n"
   ]
  },
  {
   "cell_type": "code",
   "execution_count": null,
   "metadata": {},
   "outputs": [],
   "source": [
    "Trucks0 = []\n",
    "for i in range(R[t]):\n",
    "    for t in Trucks :\n",
    "        Trucks0.append(t)\n",
    "        "
   ]
  },
  {
   "attachments": {},
   "cell_type": "markdown",
   "metadata": {},
   "source": [
    "       "
   ]
  },
  {
   "cell_type": "code",
   "execution_count": null,
   "metadata": {},
   "outputs": [],
   "source": [
    "for i in Items : \n",
    "    constr_name = f\"I1_{i}\"\n",
    "    m.addConstr((sum(dict_var_ts[t][s]*dict_var_si[s][i] for t in Trucks for s in S)) >= 1 , name= constr_name)"
   ]
  },
  {
   "cell_type": "code",
   "execution_count": null,
   "metadata": {},
   "outputs": [],
   "source": [
    "is_valid = dict_of_dicts_item['Plant code'][i] in dict_of_dicts_trucks['Plant code'][t]"
   ]
  },
  {
   "cell_type": "code",
   "execution_count": null,
   "metadata": {},
   "outputs": [
    {
     "data": {
      "text/plain": [
       "True"
      ]
     },
     "execution_count": 558,
     "metadata": {},
     "output_type": "execute_result"
    }
   ],
   "source": [
    "is_valid"
   ]
  },
  {
   "attachments": {},
   "cell_type": "markdown",
   "metadata": {},
   "source": [
    "Contrainte I2"
   ]
  },
  {
   "cell_type": "code",
   "execution_count": null,
   "metadata": {},
   "outputs": [],
   "source": [
    "for i in Items : \n",
    "    constr_name = f\"I2_{i}\"\n",
    "    m.addConstr((1 <= sum((dict_of_dicts_item['Plant code'][i] in dict_of_dicts_trucks['Plant code'][t]) * \\\n",
    "                sum(dict_var_ts[t][s] * dict_var_si[s][i] for s in S) for t in Trucks)), name= constr_name)\n"
   ]
  },
  {
   "attachments": {},
   "cell_type": "markdown",
   "metadata": {},
   "source": [
    "Contrainte I3:"
   ]
  },
  {
   "cell_type": "code",
   "execution_count": null,
   "metadata": {},
   "outputs": [],
   "source": [
    "for i in Items : \n",
    "    constr_name = f\"I3_{i}\"\n",
    "    m.addConstr((1 <= sum((dict_of_dicts_item['Product code'][i] in dict_of_dicts_trucks['Product code'][t]) * \\\n",
    "                sum(dict_var_ts[t][s] * dict_var_si[s][i] for s in S) for t in Trucks)), name= constr_name)\n"
   ]
  },
  {
   "attachments": {},
   "cell_type": "markdown",
   "metadata": {},
   "source": [
    "Contrainte I4:"
   ]
  },
  {
   "cell_type": "code",
   "execution_count": null,
   "metadata": {},
   "outputs": [],
   "source": [
    "for i in Items : \n",
    "    constr_name = f\"I3_{i}\"\n",
    "    m.addConstr((1 <= sum((dict_of_dicts_item['Supplier code'][i] in dict_of_dicts_trucks['Supplier code'][t]) * \\\n",
    "                sum(dict_var_ts[t][s] * dict_var_si[s][i] for s in S) for t in Trucks)), name= constr_name)\n"
   ]
  },
  {
   "cell_type": "code",
   "execution_count": null,
   "metadata": {},
   "outputs": [
    {
     "data": {
      "text/plain": [
       "{'Supplier code': {'0090017100_28062022000001': 9624700,\n",
       "  '0090017100_28062022000002': 9624700,\n",
       "  '0090017100_28062022000003': 9624700,\n",
       "  '0090017100_28062022000004': 9624700,\n",
       "  '0090017100_28062022000005': 9624700,\n",
       "  '0090017100_28062022000006': 9624700},\n",
       " 'Supplier dock': {'0090017100_28062022000001': nan,\n",
       "  '0090017100_28062022000002': nan,\n",
       "  '0090017100_28062022000003': nan,\n",
       "  '0090017100_28062022000004': nan,\n",
       "  '0090017100_28062022000005': nan,\n",
       "  '0090017100_28062022000006': nan},\n",
       " 'Plant code': {'0090017100_28062022000001': 90017100,\n",
       "  '0090017100_28062022000002': 90017100,\n",
       "  '0090017100_28062022000003': 90017100,\n",
       "  '0090017100_28062022000004': 90017100,\n",
       "  '0090017100_28062022000005': 90017100,\n",
       "  '0090017100_28062022000006': 90017100},\n",
       " 'Plant dock': {'0090017100_28062022000001': '171JSU',\n",
       "  '0090017100_28062022000002': '171JSU',\n",
       "  '0090017100_28062022000003': '171JSU',\n",
       "  '0090017100_28062022000004': '171JSU',\n",
       "  '0090017100_28062022000005': '171JSU',\n",
       "  '0090017100_28062022000006': '171JSU'},\n",
       " 'Product code': {'0090017100_28062022000001': 8201211111,\n",
       "  '0090017100_28062022000002': 8201211111,\n",
       "  '0090017100_28062022000003': 8201211111,\n",
       "  '0090017100_28062022000004': 8201211111,\n",
       "  '0090017100_28062022000005': 8201211111,\n",
       "  '0090017100_28062022000006': 8201211111},\n",
       " 'Package code': {'0090017100_28062022000001': 'MCC---0141',\n",
       "  '0090017100_28062022000002': 'MCC---0141',\n",
       "  '0090017100_28062022000003': 'MCC---0141',\n",
       "  '0090017100_28062022000004': 'MCC---0141',\n",
       "  '0090017100_28062022000005': 'MCC---0141',\n",
       "  '0090017100_28062022000006': 'MCC---0141'},\n",
       " 'Number of items': {'0090017100_28062022000001': 5,\n",
       "  '0090017100_28062022000002': 3,\n",
       "  '0090017100_28062022000003': 2,\n",
       "  '0090017100_28062022000004': 3,\n",
       "  '0090017100_28062022000005': 2,\n",
       "  '0090017100_28062022000006': 3},\n",
       " 'Length': {'0090017100_28062022000001': 1550,\n",
       "  '0090017100_28062022000002': 1550,\n",
       "  '0090017100_28062022000003': 1550,\n",
       "  '0090017100_28062022000004': 1550,\n",
       "  '0090017100_28062022000005': 1550,\n",
       "  '0090017100_28062022000006': 1550},\n",
       " 'Width': {'0090017100_28062022000001': 1230,\n",
       "  '0090017100_28062022000002': 1230,\n",
       "  '0090017100_28062022000003': 1230,\n",
       "  '0090017100_28062022000004': 1230,\n",
       "  '0090017100_28062022000005': 1230,\n",
       "  '0090017100_28062022000006': 1230},\n",
       " 'Height': {'0090017100_28062022000001': 817,\n",
       "  '0090017100_28062022000002': 817,\n",
       "  '0090017100_28062022000003': 817,\n",
       "  '0090017100_28062022000004': 817,\n",
       "  '0090017100_28062022000005': 817,\n",
       "  '0090017100_28062022000006': 817},\n",
       " 'Weight': {'0090017100_28062022000001': 2236.28,\n",
       "  '0090017100_28062022000002': 2236.28,\n",
       "  '0090017100_28062022000003': 2236.28,\n",
       "  '0090017100_28062022000004': 2236.28,\n",
       "  '0090017100_28062022000005': 2236.28,\n",
       "  '0090017100_28062022000006': 2236.28},\n",
       " 'Nesting height': {'0090017100_28062022000001': 50,\n",
       "  '0090017100_28062022000002': 50,\n",
       "  '0090017100_28062022000003': 50,\n",
       "  '0090017100_28062022000004': 50,\n",
       "  '0090017100_28062022000005': 50,\n",
       "  '0090017100_28062022000006': 50},\n",
       " 'Stackability code': {'0090017100_28062022000001': 'GERB--1729_1550_1230',\n",
       "  '0090017100_28062022000002': 'GERB--1729_1550_1230',\n",
       "  '0090017100_28062022000003': 'GERB--1729_1550_1230',\n",
       "  '0090017100_28062022000004': 'GERB--1729_1550_1230',\n",
       "  '0090017100_28062022000005': 'GERB--1729_1550_1230',\n",
       "  '0090017100_28062022000006': 'GERB--1729_1550_1230'},\n",
       " 'Forced orientation': {'0090017100_28062022000001': 'none',\n",
       "  '0090017100_28062022000002': 'none',\n",
       "  '0090017100_28062022000003': 'none',\n",
       "  '0090017100_28062022000004': 'none',\n",
       "  '0090017100_28062022000005': 'none',\n",
       "  '0090017100_28062022000006': 'none'},\n",
       " 'Earliest arrival time': {'0090017100_28062022000001': 202207210000,\n",
       "  '0090017100_28062022000002': 202207070000,\n",
       "  '0090017100_28062022000003': 202207280000,\n",
       "  '0090017100_28062022000004': 202209010000,\n",
       "  '0090017100_28062022000005': 202208250000,\n",
       "  '0090017100_28062022000006': 202208180000},\n",
       " 'Latest arrival time': {'0090017100_28062022000001': 202207211015,\n",
       "  '0090017100_28062022000002': 202207071015,\n",
       "  '0090017100_28062022000003': 202207281015,\n",
       "  '0090017100_28062022000004': 202209011015,\n",
       "  '0090017100_28062022000005': 202208251015,\n",
       "  '0090017100_28062022000006': 202208181015},\n",
       " 'Inventory cost': {'0090017100_28062022000001': 25,\n",
       "  '0090017100_28062022000002': 25,\n",
       "  '0090017100_28062022000003': 25,\n",
       "  '0090017100_28062022000004': 25,\n",
       "  '0090017100_28062022000005': 25,\n",
       "  '0090017100_28062022000006': 25},\n",
       " 'Max stackability': {'0090017100_28062022000001': 100,\n",
       "  '0090017100_28062022000002': 100,\n",
       "  '0090017100_28062022000003': 100,\n",
       "  '0090017100_28062022000004': 100,\n",
       "  '0090017100_28062022000005': 100,\n",
       "  '0090017100_28062022000006': 100}}"
      ]
     },
     "execution_count": 562,
     "metadata": {},
     "output_type": "execute_result"
    }
   ],
   "source": [
    "dict_of_dicts_item"
   ]
  },
  {
   "attachments": {},
   "cell_type": "markdown",
   "metadata": {},
   "source": [
    "Contrainte I5:"
   ]
  },
  {
   "cell_type": "code",
   "execution_count": 715,
   "metadata": {},
   "outputs": [],
   "source": [
    "\n",
    "for i in Items : \n",
    "    constr_name = f\"I4_{i}\"\n",
    "    m.addConstr((1 == sum((dict_of_dicts_item['Earliest arrival time'][i] <= dict_of_dicts_trucks['Arrival time'][t][0] <= dict_of_dicts_item['Latest arrival time'][i]) * \\\n",
    "                sum(dict_var_ts[t][s] * dict_var_si[s][i] for s in S) for t in Trucks)), name= constr_name)"
   ]
  },
  {
   "cell_type": "code",
   "execution_count": 723,
   "metadata": {},
   "outputs": [],
   "source": [
    "for i in Items :\n",
    "    m.addConstr(dict_of_dicts_item['Earliest arrival time'][i] <= sum(dict_var_ts[t][s]*dict_var_si[s][i]*dict_of_dicts_trucks['Arrival time'][t][0] for s in S for t in Trucks))"
   ]
  },
  {
   "cell_type": "code",
   "execution_count": 725,
   "metadata": {},
   "outputs": [],
   "source": [
    "for i in Items :\n",
    "    m.addConstr(dict_of_dicts_item['Latest arrival time'][i] >= sum(dict_var_ts[t][s]*dict_var_si[s][i]*dict_of_dicts_trucks['Arrival time'][t][0] for s in S for t in Trucks))"
   ]
  },
  {
   "cell_type": "code",
   "execution_count": null,
   "metadata": {},
   "outputs": [
    {
     "data": {
      "text/plain": [
       "0    0090017100_28062022000001\n",
       "1    0090017100_28062022000002\n",
       "2    0090017100_28062022000003\n",
       "3    0090017100_28062022000004\n",
       "4    0090017100_28062022000005\n",
       "5    0090017100_28062022000006\n",
       "Name: Item ident, dtype: object"
      ]
     },
     "execution_count": 564,
     "metadata": {},
     "output_type": "execute_result"
    }
   ],
   "source": [
    "Items"
   ]
  },
  {
   "attachments": {},
   "cell_type": "markdown",
   "metadata": {},
   "source": [
    "Contrainte S1S"
   ]
  },
  {
   "cell_type": "code",
   "execution_count": null,
   "metadata": {},
   "outputs": [],
   "source": [
    "M = 70 #à ajuster cette big M\n",
    "c = {}\n",
    "for s in S:\n",
    "    for i in Items :\n",
    "        for k in Items :\n",
    "            if k != i :\n",
    "                c[s, i, k] = m.addVar(vtype=GRB.BINARY, name=f\"b_{s}_{i}_{k}\")\n",
    "                m.addConstr((dict_var_si[s][i]*dict_var_si[s][k] - c[s, i, k] <= 0), name=\"2_items_ddans_meme_stack_supp\")\n",
    "                constr_name = f\"S1S_{s}{i}{k}\"\n",
    "                m.addConstr(((dict_of_dicts_item['Supplier code'][i] == dict_of_dicts_item['Supplier code'][k]) or (c[s, i, k] == 1)) >= 1, name= constr_name)\n",
    " \n"
   ]
  },
  {
   "attachments": {},
   "cell_type": "markdown",
   "metadata": {},
   "source": [
    "Contrainte S1P"
   ]
  },
  {
   "cell_type": "code",
   "execution_count": null,
   "metadata": {},
   "outputs": [],
   "source": [
    "M = 70 #à ajuster cette big M\n",
    "b = {}\n",
    "for s in S:\n",
    "    for i in Items :\n",
    "        for k in Items :\n",
    "            if k != i :\n",
    "                b[s, i, k] = m.addVar(vtype=GRB.BINARY, name=f\"b_{s}_{i}_{k}\")\n",
    "                m.addConstr((dict_var_si[s][i]*dict_var_si[s][k] - b[s, i, k] <= 0), name=\"2_items_ddans_meme_stack_plant\")\n",
    "                constr_name = f\"S1P_{s}{i}{k}\"\n",
    "                m.addConstr(((dict_of_dicts_item['Plant code'][i] == dict_of_dicts_item['Plant code'][k]) or (b[s, i, k] == 1)) >= 1, name= constr_name)\n",
    " "
   ]
  },
  {
   "attachments": {},
   "cell_type": "markdown",
   "metadata": {},
   "source": [
    "Contrainte S1K pour dataset ou y a pas de nan"
   ]
  },
  {
   "cell_type": "code",
   "execution_count": null,
   "metadata": {},
   "outputs": [
    {
     "data": {
      "text/plain": [
       "{'Supplier code': {'0090017100_28062022000001': 9624700,\n",
       "  '0090017100_28062022000002': 9624700,\n",
       "  '0090017100_28062022000003': 9624700,\n",
       "  '0090017100_28062022000004': 9624700,\n",
       "  '0090017100_28062022000005': 9624700,\n",
       "  '0090017100_28062022000006': 9624700},\n",
       " 'Supplier dock': {'0090017100_28062022000001': nan,\n",
       "  '0090017100_28062022000002': nan,\n",
       "  '0090017100_28062022000003': nan,\n",
       "  '0090017100_28062022000004': nan,\n",
       "  '0090017100_28062022000005': nan,\n",
       "  '0090017100_28062022000006': nan},\n",
       " 'Plant code': {'0090017100_28062022000001': 90017100,\n",
       "  '0090017100_28062022000002': 90017100,\n",
       "  '0090017100_28062022000003': 90017100,\n",
       "  '0090017100_28062022000004': 90017100,\n",
       "  '0090017100_28062022000005': 90017100,\n",
       "  '0090017100_28062022000006': 90017100},\n",
       " 'Plant dock': {'0090017100_28062022000001': '171JSU',\n",
       "  '0090017100_28062022000002': '171JSU',\n",
       "  '0090017100_28062022000003': '171JSU',\n",
       "  '0090017100_28062022000004': '171JSU',\n",
       "  '0090017100_28062022000005': '171JSU',\n",
       "  '0090017100_28062022000006': '171JSU'},\n",
       " 'Product code': {'0090017100_28062022000001': 8201211111,\n",
       "  '0090017100_28062022000002': 8201211111,\n",
       "  '0090017100_28062022000003': 8201211111,\n",
       "  '0090017100_28062022000004': 8201211111,\n",
       "  '0090017100_28062022000005': 8201211111,\n",
       "  '0090017100_28062022000006': 8201211111},\n",
       " 'Package code': {'0090017100_28062022000001': 'MCC---0141',\n",
       "  '0090017100_28062022000002': 'MCC---0141',\n",
       "  '0090017100_28062022000003': 'MCC---0141',\n",
       "  '0090017100_28062022000004': 'MCC---0141',\n",
       "  '0090017100_28062022000005': 'MCC---0141',\n",
       "  '0090017100_28062022000006': 'MCC---0141'},\n",
       " 'Number of items': {'0090017100_28062022000001': 5,\n",
       "  '0090017100_28062022000002': 3,\n",
       "  '0090017100_28062022000003': 2,\n",
       "  '0090017100_28062022000004': 3,\n",
       "  '0090017100_28062022000005': 2,\n",
       "  '0090017100_28062022000006': 3},\n",
       " 'Length': {'0090017100_28062022000001': 1550,\n",
       "  '0090017100_28062022000002': 1550,\n",
       "  '0090017100_28062022000003': 1550,\n",
       "  '0090017100_28062022000004': 1550,\n",
       "  '0090017100_28062022000005': 1550,\n",
       "  '0090017100_28062022000006': 1550},\n",
       " 'Width': {'0090017100_28062022000001': 1230,\n",
       "  '0090017100_28062022000002': 1230,\n",
       "  '0090017100_28062022000003': 1230,\n",
       "  '0090017100_28062022000004': 1230,\n",
       "  '0090017100_28062022000005': 1230,\n",
       "  '0090017100_28062022000006': 1230},\n",
       " 'Height': {'0090017100_28062022000001': 817,\n",
       "  '0090017100_28062022000002': 817,\n",
       "  '0090017100_28062022000003': 817,\n",
       "  '0090017100_28062022000004': 817,\n",
       "  '0090017100_28062022000005': 817,\n",
       "  '0090017100_28062022000006': 817},\n",
       " 'Weight': {'0090017100_28062022000001': 2236.28,\n",
       "  '0090017100_28062022000002': 2236.28,\n",
       "  '0090017100_28062022000003': 2236.28,\n",
       "  '0090017100_28062022000004': 2236.28,\n",
       "  '0090017100_28062022000005': 2236.28,\n",
       "  '0090017100_28062022000006': 2236.28},\n",
       " 'Nesting height': {'0090017100_28062022000001': 50,\n",
       "  '0090017100_28062022000002': 50,\n",
       "  '0090017100_28062022000003': 50,\n",
       "  '0090017100_28062022000004': 50,\n",
       "  '0090017100_28062022000005': 50,\n",
       "  '0090017100_28062022000006': 50},\n",
       " 'Stackability code': {'0090017100_28062022000001': 'GERB--1729_1550_1230',\n",
       "  '0090017100_28062022000002': 'GERB--1729_1550_1230',\n",
       "  '0090017100_28062022000003': 'GERB--1729_1550_1230',\n",
       "  '0090017100_28062022000004': 'GERB--1729_1550_1230',\n",
       "  '0090017100_28062022000005': 'GERB--1729_1550_1230',\n",
       "  '0090017100_28062022000006': 'GERB--1729_1550_1230'},\n",
       " 'Forced orientation': {'0090017100_28062022000001': 'none',\n",
       "  '0090017100_28062022000002': 'none',\n",
       "  '0090017100_28062022000003': 'none',\n",
       "  '0090017100_28062022000004': 'none',\n",
       "  '0090017100_28062022000005': 'none',\n",
       "  '0090017100_28062022000006': 'none'},\n",
       " 'Earliest arrival time': {'0090017100_28062022000001': 202207210000,\n",
       "  '0090017100_28062022000002': 202207070000,\n",
       "  '0090017100_28062022000003': 202207280000,\n",
       "  '0090017100_28062022000004': 202209010000,\n",
       "  '0090017100_28062022000005': 202208250000,\n",
       "  '0090017100_28062022000006': 202208180000},\n",
       " 'Latest arrival time': {'0090017100_28062022000001': 202207211015,\n",
       "  '0090017100_28062022000002': 202207071015,\n",
       "  '0090017100_28062022000003': 202207281015,\n",
       "  '0090017100_28062022000004': 202209011015,\n",
       "  '0090017100_28062022000005': 202208251015,\n",
       "  '0090017100_28062022000006': 202208181015},\n",
       " 'Inventory cost': {'0090017100_28062022000001': 25,\n",
       "  '0090017100_28062022000002': 25,\n",
       "  '0090017100_28062022000003': 25,\n",
       "  '0090017100_28062022000004': 25,\n",
       "  '0090017100_28062022000005': 25,\n",
       "  '0090017100_28062022000006': 25},\n",
       " 'Max stackability': {'0090017100_28062022000001': 100,\n",
       "  '0090017100_28062022000002': 100,\n",
       "  '0090017100_28062022000003': 100,\n",
       "  '0090017100_28062022000004': 100,\n",
       "  '0090017100_28062022000005': 100,\n",
       "  '0090017100_28062022000006': 100}}"
      ]
     },
     "execution_count": 567,
     "metadata": {},
     "output_type": "execute_result"
    }
   ],
   "source": [
    "dict_of_dicts_item"
   ]
  },
  {
   "attachments": {},
   "cell_type": "markdown",
   "metadata": {},
   "source": [
    "Contrainte S1SC"
   ]
  },
  {
   "cell_type": "code",
   "execution_count": null,
   "metadata": {},
   "outputs": [],
   "source": [
    "M = 70 #à ajuster cette big M\n",
    "bsc = {}\n",
    "for s in S:\n",
    "    for i in Items :\n",
    "        for k in Items :\n",
    "            if k != i :\n",
    "                bsc[s, i, k] = m.addVar(vtype=GRB.BINARY, name=f\"bsc_{s}_{i}_{k}\")\n",
    "                m.addConstr((dict_var_si[s][i]*dict_var_si[s][k] - bsc[s, i, k] <= 0), name=\"2_items_ddans_meme_stack\")\n",
    "                constr_name = f\"S1SC_{s}{i}{k}\"\n",
    "                m.addConstr(((dict_of_dicts_item['Stackability code'][i] == dict_of_dicts_item['Stackability code'][k]) or (b[s, i, k] == 1)) >= 1, name= constr_name)\n",
    " "
   ]
  },
  {
   "cell_type": "code",
   "execution_count": null,
   "metadata": {},
   "outputs": [
    {
     "data": {
      "text/plain": [
       "0    0\n",
       "1    0\n",
       "2    0\n",
       "3    0\n",
       "4    0\n",
       "5    0\n",
       "Name: Stack with multiple docks, dtype: int64"
      ]
     },
     "execution_count": 569,
     "metadata": {},
     "output_type": "execute_result"
    }
   ],
   "source": [
    "df_trucks['Stack with multiple docks']"
   ]
  },
  {
   "attachments": {},
   "cell_type": "markdown",
   "metadata": {},
   "source": [
    "TFt = 0 "
   ]
  },
  {
   "cell_type": "code",
   "execution_count": null,
   "metadata": {},
   "outputs": [],
   "source": [
    "ATFT0 = {}\n",
    "for t in Trucks:\n",
    "    if dict_of_dicts_trucks['Stack with multiple docks'][t] == 0:\n",
    "        for s in S:\n",
    "            for i in Items:\n",
    "                for k in Items:\n",
    "                    ATFT0[t, s, i, k] = m.addConstr((dict_var_si[s][i]*dict_var_si[s][k]*dict_var_ts[t][s] == 0) or dict_of_dicts_item['Plant dock'][i]==dict_of_dicts_item['Plant dock'][k])\n",
    "\n"
   ]
  },
  {
   "attachments": {},
   "cell_type": "markdown",
   "metadata": {},
   "source": [
    "TFt = 1"
   ]
  },
  {
   "cell_type": "code",
   "execution_count": null,
   "metadata": {},
   "outputs": [],
   "source": [
    "ATFT1 = {} \n",
    "for t in Trucks:\n",
    "    if dict_of_dicts_trucks['Stack with multiple docks'][t] == 1:\n",
    "        for s in S:\n",
    "            ATFT1[t,s] = m.addConstr((len(list(set([dict_of_dicts_item['Plant dock'][i] for i in Items if dict_var_si[s][i]*dict_var_si[t][s]>= 1]))) <= 2))\n",
    "       \n"
   ]
  },
  {
   "attachments": {},
   "cell_type": "markdown",
   "metadata": {},
   "source": [
    "Relaxation de S3"
   ]
  },
  {
   "cell_type": "code",
   "execution_count": null,
   "metadata": {},
   "outputs": [
    {
     "name": "stdout",
     "output_type": "stream",
     "text": [
      "9624700\n"
     ]
    }
   ],
   "source": [
    "print(dict_of_dicts_item['Supplier code'][i])"
   ]
  },
  {
   "cell_type": "code",
   "execution_count": null,
   "metadata": {},
   "outputs": [
    {
     "data": {
      "text/plain": [
       "0    none\n",
       "1    none\n",
       "2    none\n",
       "3    none\n",
       "4    none\n",
       "5    none\n",
       "Name: Forced orientation, dtype: object"
      ]
     },
     "execution_count": 573,
     "metadata": {},
     "output_type": "execute_result"
    }
   ],
   "source": [
    "df_item['Forced orientation']"
   ]
  },
  {
   "attachments": {},
   "cell_type": "markdown",
   "metadata": {},
   "source": [
    "S4"
   ]
  },
  {
   "cell_type": "code",
   "execution_count": null,
   "metadata": {},
   "outputs": [],
   "source": [
    "Orientation = {}\n",
    "for s in S:\n",
    "    for i in Items:\n",
    "        if dict_of_dicts_item['Forced orientation'][k] != 'none':\n",
    "            for k in Items:\n",
    "                if dict_of_dicts_item['Forced orientation'][k] != 'none':\n",
    "                    Orientation[s, i, k] = m.addConstr((dict_of_dicts_item['Forced orientation'][i]== dict_of_dicts_item['Forced orientation'][k]) or  (dict_var_si[s][i]*dict_var_si[t][s]==0))\n"
   ]
  },
  {
   "cell_type": "code",
   "execution_count": null,
   "metadata": {},
   "outputs": [
    {
     "data": {
      "text/plain": [
       "Index(['Supplier code', 'Supplier loading order', 'Supplier dock',\n",
       "       'Supplier dock loading order', 'Plant code', 'Plant dock',\n",
       "       'Plant dock loading order', 'Product code', 'Arrival time', 'Id truck',\n",
       "       'Length', 'Width', 'Height', 'Max weight', 'Stack with multiple docks',\n",
       "       'Max density', 'Max weight on the bottom item in stacks', 'Cost',\n",
       "       'EMmm', 'EMmr', 'CM', 'CJfm', 'CJfc', 'CJfh', 'EM', 'EJhr', 'EJcr',\n",
       "       'EJeh'],\n",
       "      dtype='object')"
      ]
     },
     "execution_count": 575,
     "metadata": {},
     "output_type": "execute_result"
    }
   ],
   "source": [
    "df_trucks.columns"
   ]
  },
  {
   "cell_type": "code",
   "execution_count": null,
   "metadata": {},
   "outputs": [],
   "source": [
    "def weight_not_bottom(s):\n",
    "    return sum(int(dict_of_dicts_item['Weight'][i])*(1-dict_var_si_ordre[s][i])for i in Items)"
   ]
  },
  {
   "cell_type": "code",
   "execution_count": null,
   "metadata": {},
   "outputs": [],
   "source": [
    "def weight_bottom(t, s):\n",
    "    return sum(dict_of_dicts_trucks['Max weight on the bottom item in stacks'][t, dict_of_dicts_item['Product code'][i]][0]* dict_var_si_ordre[s][i] == 1 for i in Items)"
   ]
  },
  {
   "attachments": {},
   "cell_type": "markdown",
   "metadata": {},
   "source": [
    "Contrainte Max weight bottom"
   ]
  },
  {
   "cell_type": "code",
   "execution_count": null,
   "metadata": {},
   "outputs": [],
   "source": [
    "for t in Trucks:\n",
    "    for s in S:\n",
    "        m.addConstr((weight_not_bottom(s) <= weight_bottom(t,s)) or dict_var_ts[t][s]== 0)\n"
   ]
  },
  {
   "cell_type": "code",
   "execution_count": null,
   "metadata": {},
   "outputs": [
    {
     "data": {
      "text/plain": [
       "{('P188152725', 8201211111): [100000],\n",
       " ('P202152725', 8201211111): [100000],\n",
       " ('P209152725', 8201211111): [100000],\n",
       " ('P230152725', 8201211111): [100000],\n",
       " ('P237152725', 8201211111): [100000],\n",
       " ('P244152725', 8201211111): [100000]}"
      ]
     },
     "execution_count": 462,
     "metadata": {},
     "output_type": "execute_result"
    }
   ],
   "source": [
    "dict_of_dicts_trucks['Max weight on the bottom item in stacks']"
   ]
  },
  {
   "attachments": {},
   "cell_type": "markdown",
   "metadata": {},
   "source": [
    "contrainte S6"
   ]
  },
  {
   "cell_type": "code",
   "execution_count": null,
   "metadata": {},
   "outputs": [],
   "source": [
    "ro = {}\n",
    "for s in S:\n",
    "    for i in Items:\n",
    "        ro[s, i] = m.addVar(vtype = GRB.BINARY)\n",
    "        m.addConstr(sum(dict_var_si[s][j] for j in Items)*dict_var_si[s][i]<= dict_of_dicts_item['Max stackability'][i])\n",
    "\n"
   ]
  },
  {
   "cell_type": "code",
   "execution_count": null,
   "metadata": {},
   "outputs": [],
   "source": [
    "\n",
    "#for s in S:\n",
    "    #m.addConstr(density(s) <= sum(dict_var_ts[t][s]*dict_of_dicts_trucks['Max density'][t] for t in Trucks))\n",
    "    "
   ]
  },
  {
   "cell_type": "code",
   "execution_count": null,
   "metadata": {},
   "outputs": [],
   "source": [
    "Length = {}\n",
    "A = {}\n",
    "for s in S:\n",
    "    Length[s] = m.addVar(vtype = GRB.CONTINUOUS)\n",
    "for s in S:    \n",
    "    for i in Items:\n",
    "        #if dict_var_si[s][i]== 0:\n",
    "        A[s, i] = m.addConstr(dict_var_si[s][i]*(Length[s] - dict_of_dicts_item['Length'][i]) == 0)\n",
    "\n"
   ]
  },
  {
   "cell_type": "code",
   "execution_count": null,
   "metadata": {},
   "outputs": [],
   "source": [
    "width = {}\n",
    "J = {}\n",
    "for s in S:\n",
    "    width[s] = m.addVar(vtype = GRB.CONTINUOUS)\n",
    "for s in S:    \n",
    "    for i in Items:\n",
    "        #if dict_var_si[s][i]== 0:\n",
    "        J[s, i] = m.addConstr(dict_var_si[s][i]*(width[s] - dict_of_dicts_item['Width'][i]) == 0)\n",
    "\n",
    "weight = {}\n",
    "p = {}\n",
    "for s in S:\n",
    "    weight[s] = m.addVar(vtype = GRB.CONTINUOUS)\n",
    "for s in S:    \n",
    "    for i in Items:\n",
    "        #if dict_var_si[s][i]== 0:\n",
    "        p[s, i] = m.addConstr(weight[s] - sum(dict_var_si[s][i]*dict_of_dicts_item['Weight'][i] for i in Items) == 0)\n",
    "\n"
   ]
  },
  {
   "attachments": {},
   "cell_type": "markdown",
   "metadata": {},
   "source": [
    "Relaxation de S5"
   ]
  },
  {
   "cell_type": "code",
   "execution_count": null,
   "metadata": {},
   "outputs": [],
   "source": [
    "#for t in Trucks:\n",
    "    #for s in S:\n",
    "        #for i in Items :\n",
    "            #m.addConstr(weight[s]*dict_var_si[s][i]*dict_var_ts[t][s] - width[s]*Length[s]*dict_of_dicts_trucks['Max weight on the bottom item in stacks'][t,dict_of_dicts_item['Product code'][i]][0] <= 0)"
   ]
  },
  {
   "cell_type": "code",
   "execution_count": null,
   "metadata": {},
   "outputs": [],
   "source": [
    "IDL = {}\n",
    "for i in Items:\n",
    "    IDL[i] = m.addVar(vtype = GRB.CONTINUOUS)\n",
    "for t in Trucks:  \n",
    "    for s in S:  \n",
    "    \n",
    "        for i in Items:\n",
    "                IDL[t, i] = m.addConstr(((IDL[i] - dict_of_dicts_trucks['Arrival time'][t][0]) == 0) or dict_var_ts[t][s]*dict_var_si[s][i]==1)"
   ]
  },
  {
   "cell_type": "code",
   "execution_count": null,
   "metadata": {},
   "outputs": [],
   "source": [
    "for t in Trucks:\n",
    "    for s1 in dict_var_ts[t]:\n",
    "        for s2 in dict_var_ts[t]:\n",
    "            if dict_var_coord_s[s1]['sx0']<=dict_var_coord_s[s2]['sx0'] and dict_var_coord_s[s2]['sx0']<=dict_var_coord_s[s1]['sxe']:                \n",
    "                m.addConstr(dict_var_coord_s[s2]['sy0'] >= dict_var_coord_s[s1]['sye'] or dict_var_coord_s[s2]['sye'] <= dict_var_coord_s[s1]['sy0'] )"
   ]
  },
  {
   "cell_type": "code",
   "execution_count": null,
   "metadata": {},
   "outputs": [],
   "source": [
    "for t in Trucks:\n",
    "    for s in dict_var_ts[t]:\n",
    "        m.addConstr(dict_var_coord_s[s]['sxe'] <= TL[t])\n",
    "        m.addConstr(dict_var_coord_s[s]['sye'] <= TW[t])\n",
    "        m.addConstr(dict_var_coord_s[s]['sze'] <= TH[t])"
   ]
  },
  {
   "cell_type": "code",
   "execution_count": null,
   "metadata": {},
   "outputs": [
    {
     "data": {
      "text/plain": [
       "{'P188152725': [202207071015],\n",
       " 'P202152725': [202207211015],\n",
       " 'P209152725': [202207281015],\n",
       " 'P230152725': [202208181015],\n",
       " 'P237152725': [202208251015],\n",
       " 'P244152725': [202209011015]}"
      ]
     },
     "execution_count": 646,
     "metadata": {},
     "output_type": "execute_result"
    }
   ],
   "source": [
    "dict_of_dicts_trucks['Arrival time']"
   ]
  },
  {
   "cell_type": "markdown",
   "metadata": {},
   "source": []
  },
  {
   "cell_type": "code",
   "execution_count": 733,
   "metadata": {},
   "outputs": [
    {
     "name": "stdout",
     "output_type": "stream",
     "text": [
      "Warning: Q constraint 12 doesn't have a name\n",
      "Gurobi Optimizer version 10.0.1 build v10.0.1rc0 (win64)\n",
      "\n",
      "CPU model: Intel(R) Core(TM) i5-6300U CPU @ 2.40GHz, instruction set [SSE2|AVX|AVX2]\n",
      "Thread count: 2 physical cores, 4 logical processors, using up to 4 threads\n",
      "\n",
      "Optimize a model with 0 rows, 174 columns and 0 nonzeros\n",
      "Model fingerprint: 0xc26e9dd4\n",
      "Model has 252 quadratic objective terms\n",
      "Model has 24 quadratic constraints\n",
      "Variable types: 42 continuous, 132 integer (126 binary)\n",
      "Coefficient statistics:\n",
      "  Matrix range     [0e+00, 0e+00]\n",
      "  QMatrix range    [1e+00, 2e+11]\n",
      "  Objective range  [0e+00, 0e+00]\n",
      "  QObjective range [1e+13, 1e+13]\n",
      "  Bounds range     [1e+00, 1e+00]\n",
      "  RHS range        [0e+00, 0e+00]\n",
      "  QRHS range       [1e+00, 2e+11]\n",
      "Warning: Quadratic constraints contain large coefficient range\n",
      "Warning: Model contains large rhs on quadratic constraints\n",
      "Warning: Model contains large quadratic objective coefficients\n",
      "         Consider reformulating model or setting NumericFocus parameter\n",
      "         to avoid numerical issues.\n",
      "\n",
      "MIP start from previous solve produced solution with objective 9000 (0.04s)\n",
      "Loaded MIP start from previous solve with objective 9000\n",
      "\n",
      "Presolve removed 0 rows and 90 columns\n",
      "Presolve time: 0.01s\n",
      "Presolved: 780 rows, 336 columns, 2352 nonzeros\n",
      "Variable types: 0 continuous, 336 integer (336 binary)\n",
      "\n",
      "Explored 1 nodes (0 simplex iterations) in 0.10 seconds (0.00 work units)\n",
      "Thread count was 4 (of 4 available processors)\n",
      "\n",
      "Solution count 1: 9000 \n",
      "\n",
      "Optimal solution found (tolerance 1.00e-04)\n",
      "Best objective 9.000000000000e+03, best bound 9.000000000000e+03, gap 0.0000%\n"
     ]
    },
    {
     "ename": "UnicodeDecodeError",
     "evalue": "'utf-8' codec can't decode byte 0xe9 in position 5: invalid continuation byte",
     "output_type": "error",
     "traceback": [
      "\u001b[1;31m---------------------------------------------------------------------------\u001b[0m",
      "\u001b[1;31mUnicodeDecodeError\u001b[0m                        Traceback (most recent call last)",
      "\u001b[1;32m<ipython-input-733-72abdb2a4379>\u001b[0m in \u001b[0;36m<module>\u001b[1;34m\u001b[0m\n\u001b[0;32m      3\u001b[0m \u001b[0mm\u001b[0m\u001b[1;33m.\u001b[0m\u001b[0moptimize\u001b[0m\u001b[1;33m(\u001b[0m\u001b[1;33m)\u001b[0m\u001b[1;33m\u001b[0m\u001b[1;33m\u001b[0m\u001b[0m\n\u001b[0;32m      4\u001b[0m \u001b[1;32mfor\u001b[0m \u001b[0mv\u001b[0m \u001b[1;32min\u001b[0m \u001b[0mm\u001b[0m\u001b[1;33m.\u001b[0m\u001b[0mgetVars\u001b[0m\u001b[1;33m(\u001b[0m\u001b[1;33m)\u001b[0m\u001b[1;33m:\u001b[0m\u001b[1;33m\u001b[0m\u001b[1;33m\u001b[0m\u001b[0m\n\u001b[1;32m----> 5\u001b[1;33m     \u001b[0mprint\u001b[0m\u001b[1;33m(\u001b[0m\u001b[0mv\u001b[0m\u001b[1;33m.\u001b[0m\u001b[0mvarName\u001b[0m\u001b[1;33m,\u001b[0m \u001b[0mv\u001b[0m\u001b[1;33m.\u001b[0m\u001b[0mx\u001b[0m\u001b[1;33m)\u001b[0m\u001b[1;33m\u001b[0m\u001b[1;33m\u001b[0m\u001b[0m\n\u001b[0m\u001b[0;32m      6\u001b[0m \u001b[0mprint\u001b[0m\u001b[1;33m(\u001b[0m\u001b[1;34m'Total matching score: '\u001b[0m\u001b[1;33m,\u001b[0m \u001b[0mm\u001b[0m\u001b[1;33m.\u001b[0m\u001b[0mobjVal\u001b[0m\u001b[1;33m)\u001b[0m\u001b[1;33m\u001b[0m\u001b[1;33m\u001b[0m\u001b[0m\n",
      "\u001b[1;32msrc\\gurobipy\\var.pxi\u001b[0m in \u001b[0;36mgurobipy.Var.__getattr__\u001b[1;34m()\u001b[0m\n",
      "\u001b[1;32msrc\\gurobipy\\var.pxi\u001b[0m in \u001b[0;36mgurobipy.Var.getAttr\u001b[1;34m()\u001b[0m\n",
      "\u001b[1;32msrc\\gurobipy\\attrutil.pxi\u001b[0m in \u001b[0;36mgurobipy.__getattr\u001b[1;34m()\u001b[0m\n",
      "\u001b[1;32msrc\\gurobipy\\extern.pxi\u001b[0m in \u001b[0;36mgurobipy.__bytestostring\u001b[1;34m()\u001b[0m\n",
      "\u001b[1;31mUnicodeDecodeError\u001b[0m: 'utf-8' codec can't decode byte 0xe9 in position 5: invalid continuation byte"
     ]
    }
   ],
   "source": [
    "m.setObjective(1*sum(dict_of_dicts_trucks['Cost'][t][0] for t in Trucks)+(sum(dict_of_dicts_item['Inventory cost'][i]*(dict_of_dicts_item['Latest arrival time'][i] -sum(dict_var_ts[t][s]*dict_var_si[s][i]*dict_of_dicts_trucks['Arrival time'][t][0] for s in S for t in Trucks))for i in Items)), GRB.MINIMIZE)\n",
    "m.write('RAP.lp')\n",
    "m.optimize()\n",
    "for v in m.getVars():\n",
    "    print(v.varName, v.x)\n",
    "print('Total matching score: ', m.objVal)"
   ]
  },
  {
   "cell_type": "code",
   "execution_count": null,
   "metadata": {},
   "outputs": [],
   "source": [
    "for t in Trucks:\n",
    "    for s1 in dict_var_ts[t]:\n",
    "        if dict_var_coord_s[s1]['sx0'] > 0 and s2 in dict_var_ts[t] and dict_var_coord_s[s2]['sxe'] == dict_var_coord_s[s1]['sx0'] :\n",
    "            if s1 != s2:\n",
    "                m.addConstr((dict_var_coord_s[s2]['sy0'] >= dict_var_coord_s[s1]['sy0'] and dict_var_coord_s[s2]['sy0'] <= dict_var_coord_s[s1]['sye']) or (dict_var_coord_s[s2]['sye'] >= dict_var_coord_s[s1]['sy0'] and dict_var_coord_s[s2]['sye'] <= dict_var_coord_s[s1]['sye']) )"
   ]
  },
  {
   "cell_type": "code",
   "execution_count": null,
   "metadata": {},
   "outputs": [
    {
     "name": "stdout",
     "output_type": "stream",
     "text": [
      "<gurobi.Var x0090017100_28062022000001s1 (value -0.0)>\n",
      "<gurobi.Var x0090017100_28062022000002s1 (value -0.0)>\n",
      "<gurobi.Var x0090017100_28062022000003s1 (value -0.0)>\n",
      "<gurobi.Var x0090017100_28062022000004s1 (value -0.0)>\n",
      "<gurobi.Var x0090017100_28062022000005s1 (value -0.0)>\n",
      "<gurobi.Var x0090017100_28062022000006s1 (value -0.0)>\n",
      "<gurobi.Var x0090017100_28062022000001s2 (value -0.0)>\n",
      "<gurobi.Var x0090017100_28062022000002s2 (value 1.0)>\n",
      "<gurobi.Var x0090017100_28062022000003s2 (value -0.0)>\n",
      "<gurobi.Var x0090017100_28062022000004s2 (value -0.0)>\n",
      "<gurobi.Var x0090017100_28062022000005s2 (value -0.0)>\n",
      "<gurobi.Var x0090017100_28062022000006s2 (value -0.0)>\n",
      "<gurobi.Var x0090017100_28062022000001s3 (value 1.0)>\n",
      "<gurobi.Var x0090017100_28062022000002s3 (value -0.0)>\n",
      "<gurobi.Var x0090017100_28062022000003s3 (value -0.0)>\n",
      "<gurobi.Var x0090017100_28062022000004s3 (value -0.0)>\n",
      "<gurobi.Var x0090017100_28062022000005s3 (value -0.0)>\n",
      "<gurobi.Var x0090017100_28062022000006s3 (value -0.0)>\n",
      "<gurobi.Var x0090017100_28062022000001s4 (value -0.0)>\n",
      "<gurobi.Var x0090017100_28062022000002s4 (value -0.0)>\n",
      "<gurobi.Var x0090017100_28062022000003s4 (value -0.0)>\n",
      "<gurobi.Var x0090017100_28062022000004s4 (value 1.0)>\n",
      "<gurobi.Var x0090017100_28062022000005s4 (value -0.0)>\n",
      "<gurobi.Var x0090017100_28062022000006s4 (value -0.0)>\n",
      "<gurobi.Var x0090017100_28062022000001s5 (value -0.0)>\n",
      "<gurobi.Var x0090017100_28062022000002s5 (value -0.0)>\n",
      "<gurobi.Var x0090017100_28062022000003s5 (value -0.0)>\n",
      "<gurobi.Var x0090017100_28062022000004s5 (value -0.0)>\n",
      "<gurobi.Var x0090017100_28062022000005s5 (value -0.0)>\n",
      "<gurobi.Var x0090017100_28062022000006s5 (value 1.0)>\n",
      "<gurobi.Var x0090017100_28062022000001s6 (value -0.0)>\n",
      "<gurobi.Var x0090017100_28062022000002s6 (value -0.0)>\n",
      "<gurobi.Var x0090017100_28062022000003s6 (value -0.0)>\n",
      "<gurobi.Var x0090017100_28062022000004s6 (value -0.0)>\n",
      "<gurobi.Var x0090017100_28062022000005s6 (value 1.0)>\n",
      "<gurobi.Var x0090017100_28062022000006s6 (value -0.0)>\n",
      "<gurobi.Var x0090017100_28062022000001s7 (value -0.0)>\n",
      "<gurobi.Var x0090017100_28062022000002s7 (value -0.0)>\n",
      "<gurobi.Var x0090017100_28062022000003s7 (value 1.0)>\n",
      "<gurobi.Var x0090017100_28062022000004s7 (value -0.0)>\n",
      "<gurobi.Var x0090017100_28062022000005s7 (value -0.0)>\n",
      "<gurobi.Var x0090017100_28062022000006s7 (value -0.0)>\n"
     ]
    }
   ],
   "source": [
    "for s in S:\n",
    "    for i in Items:\n",
    "        print(dict_var_si[s][i])"
   ]
  },
  {
   "cell_type": "code",
   "execution_count": 732,
   "metadata": {},
   "outputs": [
    {
     "name": "stdout",
     "output_type": "stream",
     "text": [
      "<gurobi.Var ys1P209152725 (value -0.0)>\n",
      "<gurobi.Var ys2P209152725 (value -0.0)>\n",
      "<gurobi.Var ys3P209152725 (value -0.0)>\n",
      "<gurobi.Var ys4P209152725 (value -0.0)>\n",
      "<gurobi.Var ys5P209152725 (value -0.0)>\n",
      "<gurobi.Var ys6P209152725 (value -0.0)>\n",
      "<gurobi.Var ys7P209152725 (value 1.0)>\n",
      "<gurobi.Var ys1P237152725 (value -0.0)>\n",
      "<gurobi.Var ys2P237152725 (value -0.0)>\n",
      "<gurobi.Var ys3P237152725 (value -0.0)>\n",
      "<gurobi.Var ys4P237152725 (value -0.0)>\n",
      "<gurobi.Var ys5P237152725 (value -0.0)>\n",
      "<gurobi.Var ys6P237152725 (value 1.0)>\n",
      "<gurobi.Var ys7P237152725 (value -0.0)>\n",
      "<gurobi.Var ys1P230152725 (value -0.0)>\n",
      "<gurobi.Var ys2P230152725 (value -0.0)>\n",
      "<gurobi.Var ys3P230152725 (value -0.0)>\n",
      "<gurobi.Var ys4P230152725 (value -0.0)>\n",
      "<gurobi.Var ys5P230152725 (value 1.0)>\n",
      "<gurobi.Var ys6P230152725 (value -0.0)>\n",
      "<gurobi.Var ys7P230152725 (value -0.0)>\n",
      "<gurobi.Var ys1P244152725 (value -0.0)>\n",
      "<gurobi.Var ys2P244152725 (value -0.0)>\n",
      "<gurobi.Var ys3P244152725 (value -0.0)>\n",
      "<gurobi.Var ys4P244152725 (value 1.0)>\n",
      "<gurobi.Var ys5P244152725 (value -0.0)>\n",
      "<gurobi.Var ys6P244152725 (value -0.0)>\n",
      "<gurobi.Var ys7P244152725 (value -0.0)>\n",
      "<gurobi.Var ys1P202152725 (value -0.0)>\n",
      "<gurobi.Var ys2P202152725 (value -0.0)>\n",
      "<gurobi.Var ys3P202152725 (value 1.0)>\n",
      "<gurobi.Var ys4P202152725 (value -0.0)>\n",
      "<gurobi.Var ys5P202152725 (value -0.0)>\n",
      "<gurobi.Var ys6P202152725 (value -0.0)>\n",
      "<gurobi.Var ys7P202152725 (value -0.0)>\n",
      "<gurobi.Var ys1P188152725 (value -0.0)>\n",
      "<gurobi.Var ys2P188152725 (value 1.0)>\n",
      "<gurobi.Var ys3P188152725 (value -0.0)>\n",
      "<gurobi.Var ys4P188152725 (value -0.0)>\n",
      "<gurobi.Var ys5P188152725 (value -0.0)>\n",
      "<gurobi.Var ys6P188152725 (value -0.0)>\n",
      "<gurobi.Var ys7P188152725 (value -0.0)>\n"
     ]
    }
   ],
   "source": [
    "for t in Trucks:\n",
    "    for s in S:\n",
    "        print(dict_var_ts[t][s])"
   ]
  },
  {
   "cell_type": "code",
   "execution_count": 710,
   "metadata": {},
   "outputs": [
    {
     "data": {
      "text/plain": [
       "0    1500\n",
       "1    1500\n",
       "2    1500\n",
       "3    1500\n",
       "4    1500\n",
       "5    1500\n",
       "Name: Cost, dtype: int64"
      ]
     },
     "execution_count": 710,
     "metadata": {},
     "output_type": "execute_result"
    }
   ],
   "source": [
    "df_trucks['Cost']"
   ]
  },
  {
   "cell_type": "code",
   "execution_count": null,
   "metadata": {},
   "outputs": [
    {
     "data": {
      "text/plain": [
       "{'P188152725': [1500],\n",
       " 'P202152725': [1500],\n",
       " 'P209152725': [1500],\n",
       " 'P230152725': [1500],\n",
       " 'P237152725': [1500],\n",
       " 'P244152725': [1500]}"
      ]
     },
     "execution_count": 657,
     "metadata": {},
     "output_type": "execute_result"
    }
   ],
   "source": [
    "dict_of_dicts_trucks['Cost']"
   ]
  },
  {
   "cell_type": "code",
   "execution_count": null,
   "metadata": {},
   "outputs": [
    {
     "data": {
      "text/plain": [
       "100000"
      ]
     },
     "execution_count": 592,
     "metadata": {},
     "output_type": "execute_result"
    }
   ],
   "source": [
    "dict_of_dicts_trucks['Max weight on the bottom item in stacks'][t,dict_of_dicts_item['Product code'][i]][0]"
   ]
  },
  {
   "cell_type": "markdown",
   "metadata": {},
   "source": []
  },
  {
   "cell_type": "code",
   "execution_count": null,
   "metadata": {},
   "outputs": [],
   "source": []
  }
 ],
 "metadata": {
  "kernelspec": {
   "display_name": "base",
   "language": "python",
   "name": "python3"
  },
  "language_info": {
   "codemirror_mode": {
    "name": "ipython",
    "version": 3
   },
   "file_extension": ".py",
   "mimetype": "text/x-python",
   "name": "python",
   "nbconvert_exporter": "python",
   "pygments_lexer": "ipython3",
   "version": "3.8.8"
  },
  "orig_nbformat": 4,
  "vscode": {
   "interpreter": {
    "hash": "ad2bdc8ecc057115af97d19610ffacc2b4e99fae6737bb82f5d7fb13d2f2c186"
   }
  }
 },
 "nbformat": 4,
 "nbformat_minor": 2
}
